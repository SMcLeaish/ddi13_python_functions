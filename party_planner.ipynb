{
 "cells": [
  {
   "cell_type": "code",
   "execution_count": 1,
   "id": "438c61d1",
   "metadata": {},
   "outputs": [
    {
     "name": "stdout",
     "output_type": "stream",
     "text": [
      "Hello neighbors, let's plan a party!\n",
      "The total cost for a party with 7 guests at house is: $140.00\n"
     ]
    }
   ],
   "source": [
    "# This program helps to plan a party by calculating the total cost based on the number of guests, cost per person, and party location.\n",
    "print (\"Hello neighbors, let's plan a party!\")\n",
    "\n",
    "number_of_guests = int(input(\"How many guests are you inviting? \"))\n",
    "cost_per_person = float(input(\"What is the cost per person? $\"))\n",
    "party_location = input(\"Where will the party be held? \")\n",
    "\n",
    "total_cost = number_of_guests * cost_per_person\n",
    "\n",
    "print (f\"The total cost for a party with {number_of_guests} guests at {party_location} is: ${total_cost:.2f}\")\n",
    "       "
   ]
  },
  {
   "cell_type": "code",
   "execution_count": null,
   "id": "09d42c38",
   "metadata": {},
   "outputs": [],
   "source": []
  },
  {
   "cell_type": "code",
   "execution_count": null,
   "id": "f6703291",
   "metadata": {},
   "outputs": [],
   "source": []
  },
  {
   "cell_type": "code",
   "execution_count": null,
   "id": "a8ab529d",
   "metadata": {},
   "outputs": [],
   "source": [
    "or a party with {number_of_guests} guests at {party_location} is ${total_cost:.2f}.\")"
   ]
  }
 ],
 "metadata": {
  "kernelspec": {
   "display_name": "Python 3",
   "language": "python",
   "name": "python3"
  },
  "language_info": {
   "codemirror_mode": {
    "name": "ipython",
    "version": 3
   },
   "file_extension": ".py",
   "mimetype": "text/x-python",
   "name": "python",
   "nbconvert_exporter": "python",
   "pygments_lexer": "ipython3",
   "version": "3.13.7"
  }
 },
 "nbformat": 4,
 "nbformat_minor": 5
}
