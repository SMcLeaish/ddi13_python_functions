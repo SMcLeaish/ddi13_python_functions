Party Planner
# This program helps to plan a party by calculating the total cost based on the number of guests, cost per person, and party location.
print ("Hello neighbors, let's plan a party!")

number_of_guests = int(input("How many guests are you inviting? "))
cost_per_person = float(input("What is the cost per person? $"))
party_location = input("Where will the party be held? ")

total_cost = number_of_guests * cost_per_person

print (f"The total cost for a party with {number_of_guests} guests at {party_location} is ${total_cost:.2f}.")